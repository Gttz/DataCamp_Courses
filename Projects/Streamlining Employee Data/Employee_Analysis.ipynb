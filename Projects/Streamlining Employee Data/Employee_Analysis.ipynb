{
 "cells": [
  {
   "cell_type": "markdown",
   "metadata": {
    "dc": {
     "key": "4"
    },
    "deletable": false,
    "editable": false,
    "run_control": {
     "frozen": true
    },
    "tags": [
     "context"
    ]
   },
   "source": [
    "## 1. Loading data from CSV and Excel files\n",
    "<p>You just got hired as the first and only data practitioner at a small business experiencing exponential growth. The company needs more structured processes, guidelines, and standards. Your first mission is to structure the human resources data. The data is currently scattered across teams and files and comes in various formats: Excel files, CSVs, JSON files, SQL databases…</p>\n",
    "<p>The Head of People Operations wants to have a general view gathering all available information about a specific employee. Your job is to gather it all in a file that will serve as the reference moving forward. You will merge all of this data in a pandas DataFrame before exporting to CSV.</p>\n",
    "<p>Data management at your company is not the best, but you need to start somewhere. You decide to tackle the most straightforward tasks first, and to begin by loading the company office addresses. They are currently saved into a CSV file, <code>office_addresses.csv</code>, which the Office Manager sent over to you. Additionally, an HR manager you remember interviewing with gave you access to the Excel file, <code>employee_information.xls</code>, where the employee addresses are saved. You need to load these datasets in two separate DataFrames.</p>"
   ]
  },
  {
   "cell_type": "code",
   "execution_count": 2,
   "metadata": {
    "dc": {
     "key": "4"
    },
    "tags": [
     "sample_code"
    ]
   },
   "outputs": [
    {
     "name": "stdout",
     "output_type": "stream",
     "text": [
      "          office office_country    office_city   office_street  \\\n",
      "0  Leuven Office             BE         Leuven  Martelarenlaan   \n",
      "1     ESB Office             US  New York City    Fifth Avenue   \n",
      "2  WeWork Office             GB         London      Old Street   \n",
      "\n",
      "   office_street_number  \n",
      "0                    38  \n",
      "1                   350  \n",
      "2                   207  \n",
      "  employee_id employee_last_name employee_first_name employee_country  \\\n",
      "0      A2R5H9             Hunman                 Jax               BE   \n",
      "1      H8K0L6               Siff                Tara               GB   \n",
      "2      G4R7V0              Sagal               Gemma               US   \n",
      "3      M1Z7U9             Coates                 Tig               FR   \n",
      "\n",
      "  employee_city      employee_street  employee_street_number  \n",
      "0        Leuven          Grote Markt                       9  \n",
      "1        London         Baker Street                     221  \n",
      "2      New-York         Perry Street                      66  \n",
      "3         Paris  Rue de l'Université                       7  \n"
     ]
    }
   ],
   "source": [
    "# Import the library you need\n",
    "import pandas as pd\n",
    "\n",
    "# Load office_addresses.csv\n",
    "df_office_addresses = pd.read_csv(\"datasets/office_addresses.csv\")\n",
    "\n",
    "# Load employee_information.xls\n",
    "df_employee_addresses = pd.read_excel(\"datasets/employee_information.xls\")\n",
    "\n",
    "# Take a look at the first rows of the DataFrames\n",
    "print(df_office_addresses.head())\n",
    "print(df_employee_addresses.head())"
   ]
  },
  {
   "cell_type": "markdown",
   "metadata": {
    "dc": {
     "key": "12"
    },
    "deletable": false,
    "editable": false,
    "run_control": {
     "frozen": true
    },
    "tags": [
     "context"
    ]
   },
   "source": [
    "## 2. Loading employee data from Excel sheets\n",
    "<p>It turns out the <code>employee_information.xls</code> file also holds information about emergency contacts for each employee in a second sheet titled <code>emergency_contacts</code>. However, this sheet was edited at some points, and the header was removed! Looking at the data, you were able to figure out what the header should be, and you confirmed that they were appropriate with the HR manager: <code>employee_id</code>, <code>last_name</code>, <code>first_name</code>, <code>emergency_contact</code>, <code>emergency_contact_number</code>, <code>relationship</code>.</p>"
   ]
  },
  {
   "cell_type": "code",
   "execution_count": 4,
   "metadata": {
    "dc": {
     "key": "12"
    },
    "tags": [
     "sample_code"
    ]
   },
   "outputs": [
    {
     "data": {
      "text/html": [
       "<div>\n",
       "<style scoped>\n",
       "    .dataframe tbody tr th:only-of-type {\n",
       "        vertical-align: middle;\n",
       "    }\n",
       "\n",
       "    .dataframe tbody tr th {\n",
       "        vertical-align: top;\n",
       "    }\n",
       "\n",
       "    .dataframe thead th {\n",
       "        text-align: right;\n",
       "    }\n",
       "</style>\n",
       "<table border=\"1\" class=\"dataframe\">\n",
       "  <thead>\n",
       "    <tr style=\"text-align: right;\">\n",
       "      <th></th>\n",
       "      <th>employee_id</th>\n",
       "      <th>last_name</th>\n",
       "      <th>first_name</th>\n",
       "      <th>emergency_contact</th>\n",
       "      <th>emergency_contact_number</th>\n",
       "      <th>relationship</th>\n",
       "    </tr>\n",
       "  </thead>\n",
       "  <tbody>\n",
       "    <tr>\n",
       "      <th>0</th>\n",
       "      <td>A2R5H9</td>\n",
       "      <td>Hunman</td>\n",
       "      <td>Jax</td>\n",
       "      <td>Opie Hurst</td>\n",
       "      <td>+32-456-5556-84</td>\n",
       "      <td>Brother</td>\n",
       "    </tr>\n",
       "    <tr>\n",
       "      <th>1</th>\n",
       "      <td>H8K0L6</td>\n",
       "      <td>Siff</td>\n",
       "      <td>Tara</td>\n",
       "      <td>Wendy de Matteo</td>\n",
       "      <td>+44-020-5554-333</td>\n",
       "      <td>Sister</td>\n",
       "    </tr>\n",
       "    <tr>\n",
       "      <th>2</th>\n",
       "      <td>G4R7V0</td>\n",
       "      <td>Sagal</td>\n",
       "      <td>Gemma</td>\n",
       "      <td>John Newmark</td>\n",
       "      <td>+1-202-555-194</td>\n",
       "      <td>Husband</td>\n",
       "    </tr>\n",
       "    <tr>\n",
       "      <th>3</th>\n",
       "      <td>M1Z7U9</td>\n",
       "      <td>Coates</td>\n",
       "      <td>Tig</td>\n",
       "      <td>Venus Noone</td>\n",
       "      <td>+1-202-555-0130</td>\n",
       "      <td>Wife</td>\n",
       "    </tr>\n",
       "  </tbody>\n",
       "</table>\n",
       "</div>"
      ],
      "text/plain": [
       "  employee_id last_name first_name emergency_contact emergency_contact_number  \\\n",
       "0      A2R5H9    Hunman        Jax        Opie Hurst          +32-456-5556-84   \n",
       "1      H8K0L6      Siff       Tara   Wendy de Matteo         +44-020-5554-333   \n",
       "2      G4R7V0     Sagal      Gemma      John Newmark           +1-202-555-194   \n",
       "3      M1Z7U9    Coates        Tig       Venus Noone          +1-202-555-0130   \n",
       "\n",
       "  relationship  \n",
       "0      Brother  \n",
       "1       Sister  \n",
       "2      Husband  \n",
       "3         Wife  "
      ]
     },
     "execution_count": 4,
     "metadata": {},
     "output_type": "execute_result"
    }
   ],
   "source": [
    "# Load data from the second sheet of employee_information.xls\n",
    "df_emergency_contacts = pd.read_excel(\"datasets/employee_information.xls\", sheet_name=1, header=None)\n",
    "\n",
    "# Declare a list of new column names\n",
    "emergency_contacts_header = [\"employee_id\", \"last_name\", \"first_name\",\n",
    "                             \"emergency_contact\", \"emergency_contact_number\", \"relationship\"]\n",
    "\n",
    "# Rename the columns\n",
    "df_emergency_contacts.columns = emergency_contacts_header\n",
    "\n",
    "# Take a look at the first rows of the DataFrame\n",
    "df_emergency_contacts.head()"
   ]
  },
  {
   "cell_type": "markdown",
   "metadata": {
    "dc": {
     "key": "19"
    },
    "deletable": false,
    "editable": false,
    "run_control": {
     "frozen": true
    },
    "tags": [
     "context"
    ]
   },
   "source": [
    "## 3. Loading role data from JSON files\n",
    "<p>All right, you're making good progress! Now the next step is to gather information about employee roles, teams, and salaries. This information usually lives in a human resources management system, but the Head of People Operations exported the data for you into a JSON file titles <code>employee_roles.json</code>.</p>\n",
    "<p>Looking at the JSON file, you see entries are structured in a specific way. It is built as a Python dictionary: the keys are employee IDs, and each employee ID has a corresponding dictionary value holding role, salary, and team information. Here are the first few lines of the file:</p>\n",
    "<pre><code>{\"001\":\n",
    "  {\n",
    "    \"title\": \"CEO\",\n",
    "    \"monthly_salary\": \"$4500\",\n",
    "    \"team\": \"Leadership\"\n",
    "  },\n",
    " ...\n",
    "}\n",
    "</code></pre>\n",
    "<p>Load the JSON file to a variable <code>df_employee_roles</code>, choosing the appropriate orientation.</p>"
   ]
  },
  {
   "cell_type": "code",
   "execution_count": 6,
   "metadata": {
    "dc": {
     "key": "19"
    },
    "tags": [
     "sample_code"
    ]
   },
   "outputs": [
    {
     "data": {
      "text/html": [
       "<div>\n",
       "<style scoped>\n",
       "    .dataframe tbody tr th:only-of-type {\n",
       "        vertical-align: middle;\n",
       "    }\n",
       "\n",
       "    .dataframe tbody tr th {\n",
       "        vertical-align: top;\n",
       "    }\n",
       "\n",
       "    .dataframe thead th {\n",
       "        text-align: right;\n",
       "    }\n",
       "</style>\n",
       "<table border=\"1\" class=\"dataframe\">\n",
       "  <thead>\n",
       "    <tr style=\"text-align: right;\">\n",
       "      <th></th>\n",
       "      <th>monthly_salary</th>\n",
       "      <th>team</th>\n",
       "      <th>title</th>\n",
       "    </tr>\n",
       "  </thead>\n",
       "  <tbody>\n",
       "    <tr>\n",
       "      <th>A2R5H9</th>\n",
       "      <td>$4500</td>\n",
       "      <td>Leadership</td>\n",
       "      <td>CEO</td>\n",
       "    </tr>\n",
       "    <tr>\n",
       "      <th>H8K0L6</th>\n",
       "      <td>$4500</td>\n",
       "      <td>Leadership</td>\n",
       "      <td>CFO</td>\n",
       "    </tr>\n",
       "    <tr>\n",
       "      <th>G4R7V0</th>\n",
       "      <td>$3000</td>\n",
       "      <td>Sales</td>\n",
       "      <td>Business Developer</td>\n",
       "    </tr>\n",
       "    <tr>\n",
       "      <th>M1Z7U9</th>\n",
       "      <td>$2000</td>\n",
       "      <td>People Operations</td>\n",
       "      <td>Office Manager</td>\n",
       "    </tr>\n",
       "  </tbody>\n",
       "</table>\n",
       "</div>"
      ],
      "text/plain": [
       "       monthly_salary               team               title\n",
       "A2R5H9          $4500         Leadership                 CEO\n",
       "H8K0L6          $4500         Leadership                 CFO\n",
       "G4R7V0          $3000              Sales  Business Developer\n",
       "M1Z7U9          $2000  People Operations      Office Manager"
      ]
     },
     "execution_count": 6,
     "metadata": {},
     "output_type": "execute_result"
    }
   ],
   "source": [
    "# Load employee_roles.json\n",
    "df_employee_roles = pd.read_json(\"datasets/employee_roles.json\", orient=\"index\")\n",
    "df_employee_roles = df_employee_roles.reindex(sorted(df_employee_roles.columns), axis=1)\n",
    "\n",
    "# Take a look at the first rows of the DataFrame\n",
    "df_employee_roles.head()"
   ]
  },
  {
   "cell_type": "markdown",
   "metadata": {
    "dc": {
     "key": "26"
    },
    "deletable": false,
    "editable": false,
    "run_control": {
     "frozen": true
    },
    "tags": [
     "context"
    ]
   },
   "source": [
    "## 4. Merging several DataFrames into one\n",
    "<p>You now have all the data required! All that's left is bringing it all in a unique DataFrame. This unique DataFrame will enable the Head of People Operations to access all employee data at once.</p>\n",
    "<p>In this step, you will merge all DataFrames. In the next step, you will remove duplicates and reorganize the columns - don't worry about this for now.</p>"
   ]
  },
  {
   "cell_type": "code",
   "execution_count": 8,
   "metadata": {
    "dc": {
     "key": "26"
    },
    "tags": [
     "sample_code"
    ]
   },
   "outputs": [
    {
     "name": "stdout",
     "output_type": "stream",
     "text": [
      "  employee_id employee_last_name employee_first_name employee_country  \\\n",
      "0      A2R5H9             Hunman                 Jax               BE   \n",
      "1      H8K0L6               Siff                Tara               GB   \n",
      "2      G4R7V0              Sagal               Gemma               US   \n",
      "3      M1Z7U9             Coates                 Tig               FR   \n",
      "\n",
      "  employee_city      employee_street  employee_street_number last_name  \\\n",
      "0        Leuven          Grote Markt                       9    Hunman   \n",
      "1        London         Baker Street                     221      Siff   \n",
      "2      New-York         Perry Street                      66     Sagal   \n",
      "3         Paris  Rue de l'Université                       7    Coates   \n",
      "\n",
      "  first_name emergency_contact emergency_contact_number relationship  \\\n",
      "0        Jax        Opie Hurst          +32-456-5556-84      Brother   \n",
      "1       Tara   Wendy de Matteo         +44-020-5554-333       Sister   \n",
      "2      Gemma      John Newmark           +1-202-555-194      Husband   \n",
      "3        Tig       Venus Noone          +1-202-555-0130         Wife   \n",
      "\n",
      "  monthly_salary               team               title         office  \\\n",
      "0          $4500         Leadership                 CEO  Leuven Office   \n",
      "1          $4500         Leadership                 CFO  WeWork Office   \n",
      "2          $3000              Sales  Business Developer     ESB Office   \n",
      "3          $2000  People Operations      Office Manager            NaN   \n",
      "\n",
      "  office_country    office_city   office_street  office_street_number  \n",
      "0             BE         Leuven  Martelarenlaan                  38.0  \n",
      "1             GB         London      Old Street                 207.0  \n",
      "2             US  New York City    Fifth Avenue                 350.0  \n",
      "3            NaN            NaN             NaN                   NaN  \n",
      "Index(['employee_id', 'employee_last_name', 'employee_first_name',\n",
      "       'employee_country', 'employee_city', 'employee_street',\n",
      "       'employee_street_number', 'last_name', 'first_name',\n",
      "       'emergency_contact', 'emergency_contact_number', 'relationship',\n",
      "       'monthly_salary', 'team', 'title', 'office', 'office_country',\n",
      "       'office_city', 'office_street', 'office_street_number'],\n",
      "      dtype='object')\n"
     ]
    }
   ],
   "source": [
    "# Merge df_emergency_contacts with df_employee_addresses\n",
    "df_employees = df_employee_addresses.merge(df_emergency_contacts, how=\"left\", on=\"employee_id\")\n",
    "\n",
    "## Merge df_employee_roles with df_employees\n",
    "df_employees = df_employees.merge(df_employee_roles, how=\"left\", left_on=\"employee_id\", \n",
    "                                  right_on=df_employee_roles.index)\n",
    "#\n",
    "## Merge df_office_adresses with df_employees\n",
    "df_employees = df_employees.merge(df_office_addresses, how=\"left\",\n",
    "                                  left_on=\"employee_country\", right_on=\"office_country\")\n",
    "#\n",
    "## Take a look at the first rows of the DataFrame and its columns\n",
    "print(df_employees.head())\n",
    "print(df_employees.columns)"
   ]
  },
  {
   "cell_type": "markdown",
   "metadata": {
    "dc": {
     "key": "33"
    },
    "deletable": false,
    "editable": false,
    "run_control": {
     "frozen": true
    },
    "tags": [
     "context"
    ]
   },
   "source": [
    "## 5. Editing column names\n",
    "<p>Now that you merged all of your DataFrames into one let's make sure we have the information required by People Ops.</p>\n",
    "<p>Currently, your <code>df_employees</code> DataFrame has the following column titles:\n",
    "<code>employee_id</code>, <code>employee_last_name</code>, <code>employee_first_name</code>, <code>employee_country</code>, <code>employee_city</code>, <code>employee_street</code>, <code>employee_street_number</code>, <code>last_name</code>, <code>first_name</code>, <code>emergency_contact</code>, <code>emergency_contact_number</code>, <code>relationship</code>, <code>monthly_salary</code>, <code>team</code>, <code>title</code>,  <code>office</code>, <code>office_country</code>, <code>office_city</code>, <code>office_street</code>, <code>office_street_number</code>.</p>\n",
    "<p>The columns <code>employee_last_name</code> and <code>last_name</code> are duplicates. The columns <code>employee_first_name</code> and <code>first_name</code> are duplicates as well. On top of this, People Ops wants to rename some of the columns:</p>\n",
    "<ul>\n",
    "<li><code>employee_id</code> should be <code>id</code></li>\n",
    "<li><code>employee_country</code> should be <code>country</code></li>\n",
    "<li><code>employee_city</code> should be <code>city</code></li>\n",
    "<li><code>employee_street</code> should be <code>street</code></li>\n",
    "<li><code>employee_street_number</code> should be <code>street_number</code></li>\n",
    "</ul>\n",
    "<p>So your header should look like this in the end:\n",
    "<code>id</code>, <code>country</code>, <code>city</code>, <code>street</code>, <code>street_number</code>, <code>last_name</code>, <code>first_name</code>, <code>emergency_contact</code>, <code>emergency_number</code>, <code>emergency_relationship</code>, <code>monthly_salary</code>, <code>team</code>, <code>title</code>, <code>office</code>, <code>office_country</code>, <code>office_city</code>, <code>office_street</code>, <code>office_street_number</code>.</p>"
   ]
  },
  {
   "cell_type": "code",
   "execution_count": 10,
   "metadata": {
    "dc": {
     "key": "33"
    },
    "tags": [
     "sample_code"
    ]
   },
   "outputs": [
    {
     "data": {
      "text/html": [
       "<div>\n",
       "<style scoped>\n",
       "    .dataframe tbody tr th:only-of-type {\n",
       "        vertical-align: middle;\n",
       "    }\n",
       "\n",
       "    .dataframe tbody tr th {\n",
       "        vertical-align: top;\n",
       "    }\n",
       "\n",
       "    .dataframe thead th {\n",
       "        text-align: right;\n",
       "    }\n",
       "</style>\n",
       "<table border=\"1\" class=\"dataframe\">\n",
       "  <thead>\n",
       "    <tr style=\"text-align: right;\">\n",
       "      <th></th>\n",
       "      <th>id</th>\n",
       "      <th>country</th>\n",
       "      <th>city</th>\n",
       "      <th>street</th>\n",
       "      <th>street_number</th>\n",
       "      <th>last_name</th>\n",
       "      <th>first_name</th>\n",
       "      <th>emergency_contact</th>\n",
       "      <th>emergency_number</th>\n",
       "      <th>emergency_relationship</th>\n",
       "      <th>monthly_salary</th>\n",
       "      <th>team</th>\n",
       "      <th>title</th>\n",
       "      <th>office</th>\n",
       "      <th>office_country</th>\n",
       "      <th>office_city</th>\n",
       "      <th>office_street</th>\n",
       "      <th>office_street_number</th>\n",
       "    </tr>\n",
       "  </thead>\n",
       "  <tbody>\n",
       "    <tr>\n",
       "      <th>0</th>\n",
       "      <td>A2R5H9</td>\n",
       "      <td>BE</td>\n",
       "      <td>Leuven</td>\n",
       "      <td>Grote Markt</td>\n",
       "      <td>9</td>\n",
       "      <td>Hunman</td>\n",
       "      <td>Jax</td>\n",
       "      <td>Opie Hurst</td>\n",
       "      <td>+32-456-5556-84</td>\n",
       "      <td>Brother</td>\n",
       "      <td>$4500</td>\n",
       "      <td>Leadership</td>\n",
       "      <td>CEO</td>\n",
       "      <td>Leuven Office</td>\n",
       "      <td>BE</td>\n",
       "      <td>Leuven</td>\n",
       "      <td>Martelarenlaan</td>\n",
       "      <td>38.0</td>\n",
       "    </tr>\n",
       "    <tr>\n",
       "      <th>1</th>\n",
       "      <td>H8K0L6</td>\n",
       "      <td>GB</td>\n",
       "      <td>London</td>\n",
       "      <td>Baker Street</td>\n",
       "      <td>221</td>\n",
       "      <td>Siff</td>\n",
       "      <td>Tara</td>\n",
       "      <td>Wendy de Matteo</td>\n",
       "      <td>+44-020-5554-333</td>\n",
       "      <td>Sister</td>\n",
       "      <td>$4500</td>\n",
       "      <td>Leadership</td>\n",
       "      <td>CFO</td>\n",
       "      <td>WeWork Office</td>\n",
       "      <td>GB</td>\n",
       "      <td>London</td>\n",
       "      <td>Old Street</td>\n",
       "      <td>207.0</td>\n",
       "    </tr>\n",
       "    <tr>\n",
       "      <th>2</th>\n",
       "      <td>G4R7V0</td>\n",
       "      <td>US</td>\n",
       "      <td>New-York</td>\n",
       "      <td>Perry Street</td>\n",
       "      <td>66</td>\n",
       "      <td>Sagal</td>\n",
       "      <td>Gemma</td>\n",
       "      <td>John Newmark</td>\n",
       "      <td>+1-202-555-194</td>\n",
       "      <td>Husband</td>\n",
       "      <td>$3000</td>\n",
       "      <td>Sales</td>\n",
       "      <td>Business Developer</td>\n",
       "      <td>ESB Office</td>\n",
       "      <td>US</td>\n",
       "      <td>New York City</td>\n",
       "      <td>Fifth Avenue</td>\n",
       "      <td>350.0</td>\n",
       "    </tr>\n",
       "    <tr>\n",
       "      <th>3</th>\n",
       "      <td>M1Z7U9</td>\n",
       "      <td>FR</td>\n",
       "      <td>Paris</td>\n",
       "      <td>Rue de l'Université</td>\n",
       "      <td>7</td>\n",
       "      <td>Coates</td>\n",
       "      <td>Tig</td>\n",
       "      <td>Venus Noone</td>\n",
       "      <td>+1-202-555-0130</td>\n",
       "      <td>Wife</td>\n",
       "      <td>$2000</td>\n",
       "      <td>People Operations</td>\n",
       "      <td>Office Manager</td>\n",
       "      <td>NaN</td>\n",
       "      <td>NaN</td>\n",
       "      <td>NaN</td>\n",
       "      <td>NaN</td>\n",
       "      <td>NaN</td>\n",
       "    </tr>\n",
       "  </tbody>\n",
       "</table>\n",
       "</div>"
      ],
      "text/plain": [
       "       id country      city               street  street_number last_name  \\\n",
       "0  A2R5H9      BE    Leuven          Grote Markt              9    Hunman   \n",
       "1  H8K0L6      GB    London         Baker Street            221      Siff   \n",
       "2  G4R7V0      US  New-York         Perry Street             66     Sagal   \n",
       "3  M1Z7U9      FR     Paris  Rue de l'Université              7    Coates   \n",
       "\n",
       "  first_name emergency_contact  emergency_number emergency_relationship  \\\n",
       "0        Jax        Opie Hurst   +32-456-5556-84                Brother   \n",
       "1       Tara   Wendy de Matteo  +44-020-5554-333                 Sister   \n",
       "2      Gemma      John Newmark    +1-202-555-194                Husband   \n",
       "3        Tig       Venus Noone   +1-202-555-0130                   Wife   \n",
       "\n",
       "  monthly_salary               team               title         office  \\\n",
       "0          $4500         Leadership                 CEO  Leuven Office   \n",
       "1          $4500         Leadership                 CFO  WeWork Office   \n",
       "2          $3000              Sales  Business Developer     ESB Office   \n",
       "3          $2000  People Operations      Office Manager            NaN   \n",
       "\n",
       "  office_country    office_city   office_street  office_street_number  \n",
       "0             BE         Leuven  Martelarenlaan                  38.0  \n",
       "1             GB         London      Old Street                 207.0  \n",
       "2             US  New York City    Fifth Avenue                 350.0  \n",
       "3            NaN            NaN             NaN                   NaN  "
      ]
     },
     "execution_count": 10,
     "metadata": {},
     "output_type": "execute_result"
    }
   ],
   "source": [
    "# Drop the columns\n",
    "df_employees_renamed = df_employees.drop([\"employee_first_name\", \"employee_last_name\"], axis=1)\n",
    "\n",
    "# Declare a list of new columns names\n",
    "new_header = [\"id\",\n",
    "              \"country\", \"city\", \"street\", \"street_number\",  \"last_name\", \"first_name\",\n",
    "              \"emergency_contact\", \"emergency_number\", \"emergency_relationship\",\n",
    "              \"monthly_salary\", \"team\", \"title\", \"office\", \"office_country\",\n",
    "              \"office_city\", \"office_street\", \"office_street_number\"]\n",
    "\n",
    "# Rename the columns\n",
    "df_employees_renamed.columns = new_header\n",
    "\n",
    "# Take a look at the first rows of the DataFrame\n",
    "df_employees_renamed.head()"
   ]
  },
  {
   "cell_type": "markdown",
   "metadata": {
    "dc": {
     "key": "40"
    },
    "deletable": false,
    "editable": false,
    "run_control": {
     "frozen": true
    },
    "tags": [
     "context"
    ]
   },
   "source": [
    "## 6. Changing column order\n",
    "<p>Now that you have the appropriate column names, you can reorder the columns.</p>"
   ]
  },
  {
   "cell_type": "code",
   "execution_count": 12,
   "metadata": {
    "dc": {
     "key": "40"
    },
    "tags": [
     "sample_code"
    ]
   },
   "outputs": [
    {
     "data": {
      "text/html": [
       "<div>\n",
       "<style scoped>\n",
       "    .dataframe tbody tr th:only-of-type {\n",
       "        vertical-align: middle;\n",
       "    }\n",
       "\n",
       "    .dataframe tbody tr th {\n",
       "        vertical-align: top;\n",
       "    }\n",
       "\n",
       "    .dataframe thead th {\n",
       "        text-align: right;\n",
       "    }\n",
       "</style>\n",
       "<table border=\"1\" class=\"dataframe\">\n",
       "  <thead>\n",
       "    <tr style=\"text-align: right;\">\n",
       "      <th></th>\n",
       "      <th>id</th>\n",
       "      <th>last_name</th>\n",
       "      <th>first_name</th>\n",
       "      <th>title</th>\n",
       "      <th>team</th>\n",
       "      <th>monthly_salary</th>\n",
       "      <th>country</th>\n",
       "      <th>city</th>\n",
       "      <th>street</th>\n",
       "      <th>street_number</th>\n",
       "      <th>emergency_contact</th>\n",
       "      <th>emergency_number</th>\n",
       "      <th>emergency_relationship</th>\n",
       "      <th>office</th>\n",
       "      <th>office_country</th>\n",
       "      <th>office_city</th>\n",
       "      <th>office_street</th>\n",
       "      <th>office_street_number</th>\n",
       "    </tr>\n",
       "  </thead>\n",
       "  <tbody>\n",
       "    <tr>\n",
       "      <th>0</th>\n",
       "      <td>A2R5H9</td>\n",
       "      <td>Hunman</td>\n",
       "      <td>Jax</td>\n",
       "      <td>CEO</td>\n",
       "      <td>Leadership</td>\n",
       "      <td>$4500</td>\n",
       "      <td>BE</td>\n",
       "      <td>Leuven</td>\n",
       "      <td>Grote Markt</td>\n",
       "      <td>9</td>\n",
       "      <td>Opie Hurst</td>\n",
       "      <td>+32-456-5556-84</td>\n",
       "      <td>Brother</td>\n",
       "      <td>Leuven Office</td>\n",
       "      <td>BE</td>\n",
       "      <td>Leuven</td>\n",
       "      <td>Martelarenlaan</td>\n",
       "      <td>38.0</td>\n",
       "    </tr>\n",
       "    <tr>\n",
       "      <th>1</th>\n",
       "      <td>H8K0L6</td>\n",
       "      <td>Siff</td>\n",
       "      <td>Tara</td>\n",
       "      <td>CFO</td>\n",
       "      <td>Leadership</td>\n",
       "      <td>$4500</td>\n",
       "      <td>GB</td>\n",
       "      <td>London</td>\n",
       "      <td>Baker Street</td>\n",
       "      <td>221</td>\n",
       "      <td>Wendy de Matteo</td>\n",
       "      <td>+44-020-5554-333</td>\n",
       "      <td>Sister</td>\n",
       "      <td>WeWork Office</td>\n",
       "      <td>GB</td>\n",
       "      <td>London</td>\n",
       "      <td>Old Street</td>\n",
       "      <td>207.0</td>\n",
       "    </tr>\n",
       "    <tr>\n",
       "      <th>2</th>\n",
       "      <td>G4R7V0</td>\n",
       "      <td>Sagal</td>\n",
       "      <td>Gemma</td>\n",
       "      <td>Business Developer</td>\n",
       "      <td>Sales</td>\n",
       "      <td>$3000</td>\n",
       "      <td>US</td>\n",
       "      <td>New-York</td>\n",
       "      <td>Perry Street</td>\n",
       "      <td>66</td>\n",
       "      <td>John Newmark</td>\n",
       "      <td>+1-202-555-194</td>\n",
       "      <td>Husband</td>\n",
       "      <td>ESB Office</td>\n",
       "      <td>US</td>\n",
       "      <td>New York City</td>\n",
       "      <td>Fifth Avenue</td>\n",
       "      <td>350.0</td>\n",
       "    </tr>\n",
       "    <tr>\n",
       "      <th>3</th>\n",
       "      <td>M1Z7U9</td>\n",
       "      <td>Coates</td>\n",
       "      <td>Tig</td>\n",
       "      <td>Office Manager</td>\n",
       "      <td>People Operations</td>\n",
       "      <td>$2000</td>\n",
       "      <td>FR</td>\n",
       "      <td>Paris</td>\n",
       "      <td>Rue de l'Université</td>\n",
       "      <td>7</td>\n",
       "      <td>Venus Noone</td>\n",
       "      <td>+1-202-555-0130</td>\n",
       "      <td>Wife</td>\n",
       "      <td>NaN</td>\n",
       "      <td>NaN</td>\n",
       "      <td>NaN</td>\n",
       "      <td>NaN</td>\n",
       "      <td>NaN</td>\n",
       "    </tr>\n",
       "  </tbody>\n",
       "</table>\n",
       "</div>"
      ],
      "text/plain": [
       "       id last_name first_name               title               team  \\\n",
       "0  A2R5H9    Hunman        Jax                 CEO         Leadership   \n",
       "1  H8K0L6      Siff       Tara                 CFO         Leadership   \n",
       "2  G4R7V0     Sagal      Gemma  Business Developer              Sales   \n",
       "3  M1Z7U9    Coates        Tig      Office Manager  People Operations   \n",
       "\n",
       "  monthly_salary country      city               street  street_number  \\\n",
       "0          $4500      BE    Leuven          Grote Markt              9   \n",
       "1          $4500      GB    London         Baker Street            221   \n",
       "2          $3000      US  New-York         Perry Street             66   \n",
       "3          $2000      FR     Paris  Rue de l'Université              7   \n",
       "\n",
       "  emergency_contact  emergency_number emergency_relationship         office  \\\n",
       "0        Opie Hurst   +32-456-5556-84                Brother  Leuven Office   \n",
       "1   Wendy de Matteo  +44-020-5554-333                 Sister  WeWork Office   \n",
       "2      John Newmark    +1-202-555-194                Husband     ESB Office   \n",
       "3       Venus Noone   +1-202-555-0130                   Wife            NaN   \n",
       "\n",
       "  office_country    office_city   office_street  office_street_number  \n",
       "0             BE         Leuven  Martelarenlaan                  38.0  \n",
       "1             GB         London      Old Street                 207.0  \n",
       "2             US  New York City    Fifth Avenue                 350.0  \n",
       "3            NaN            NaN             NaN                   NaN  "
      ]
     },
     "execution_count": 12,
     "metadata": {},
     "output_type": "execute_result"
    }
   ],
   "source": [
    "# Declare a list for the new column's order and reorder columns\n",
    "new_column_order = [\"id\", \"last_name\", \"first_name\", \"title\", \"team\", \"monthly_salary\", \n",
    "                    \"country\", \"city\", \"street\", \"street_number\",\n",
    "                    \"emergency_contact\", \"emergency_number\", \"emergency_relationship\",\n",
    "                    \"office\", \"office_country\", \"office_city\", \"office_street\", \"office_street_number\"]\n",
    "\n",
    "# Reorder the columns\n",
    "df_employees_ordered = df_employees_renamed[new_column_order]\n",
    "\n",
    "# Take a look at the result\n",
    "df_employees_ordered.head()"
   ]
  },
  {
   "cell_type": "markdown",
   "metadata": {
    "dc": {
     "key": "47"
    },
    "deletable": false,
    "editable": false,
    "run_control": {
     "frozen": true
    },
    "tags": [
     "context"
    ]
   },
   "source": [
    "## 7. The last minute request\n",
    "<p>Last touches! You were ready to let People Ops know that the DataFrame was ready, but the department head just went over to your desk after lunch, asking about some last-minute requirements.</p>\n",
    "<p>Let's polish the DataFrame before exporting the data, sending it over to People Ops, and deploying the pipeline:</p>\n",
    "<ul>\n",
    "<li>All street numbers should be integers</li>\n",
    "<li>The index should be the actual employee ID rather than the row number</li>\n",
    "<li>If the value for office is <code>NaN</code> then the employee is remote: add a column named \"status\", right after <code>monthly_salary</code> indicating whether the employee is \"On-site\" or \"Remote.\"</li>\n",
    "</ul>"
   ]
  },
  {
   "cell_type": "code",
   "execution_count": 14,
   "metadata": {
    "dc": {
     "key": "47"
    },
    "tags": [
     "sample_code"
    ]
   },
   "outputs": [
    {
     "data": {
      "text/html": [
       "<div>\n",
       "<style scoped>\n",
       "    .dataframe tbody tr th:only-of-type {\n",
       "        vertical-align: middle;\n",
       "    }\n",
       "\n",
       "    .dataframe tbody tr th {\n",
       "        vertical-align: top;\n",
       "    }\n",
       "\n",
       "    .dataframe thead th {\n",
       "        text-align: right;\n",
       "    }\n",
       "</style>\n",
       "<table border=\"1\" class=\"dataframe\">\n",
       "  <thead>\n",
       "    <tr style=\"text-align: right;\">\n",
       "      <th></th>\n",
       "      <th>last_name</th>\n",
       "      <th>first_name</th>\n",
       "      <th>title</th>\n",
       "      <th>team</th>\n",
       "      <th>monthly_salary</th>\n",
       "      <th>status</th>\n",
       "      <th>country</th>\n",
       "      <th>city</th>\n",
       "      <th>street</th>\n",
       "      <th>street_number</th>\n",
       "      <th>emergency_contact</th>\n",
       "      <th>emergency_number</th>\n",
       "      <th>emergency_relationship</th>\n",
       "      <th>office</th>\n",
       "      <th>office_country</th>\n",
       "      <th>office_city</th>\n",
       "      <th>office_street</th>\n",
       "      <th>office_street_number</th>\n",
       "    </tr>\n",
       "    <tr>\n",
       "      <th>id</th>\n",
       "      <th></th>\n",
       "      <th></th>\n",
       "      <th></th>\n",
       "      <th></th>\n",
       "      <th></th>\n",
       "      <th></th>\n",
       "      <th></th>\n",
       "      <th></th>\n",
       "      <th></th>\n",
       "      <th></th>\n",
       "      <th></th>\n",
       "      <th></th>\n",
       "      <th></th>\n",
       "      <th></th>\n",
       "      <th></th>\n",
       "      <th></th>\n",
       "      <th></th>\n",
       "      <th></th>\n",
       "    </tr>\n",
       "  </thead>\n",
       "  <tbody>\n",
       "    <tr>\n",
       "      <th>A2R5H9</th>\n",
       "      <td>Hunman</td>\n",
       "      <td>Jax</td>\n",
       "      <td>CEO</td>\n",
       "      <td>Leadership</td>\n",
       "      <td>$4500</td>\n",
       "      <td>On-site</td>\n",
       "      <td>BE</td>\n",
       "      <td>Leuven</td>\n",
       "      <td>Grote Markt</td>\n",
       "      <td>9</td>\n",
       "      <td>Opie Hurst</td>\n",
       "      <td>+32-456-5556-84</td>\n",
       "      <td>Brother</td>\n",
       "      <td>Leuven Office</td>\n",
       "      <td>BE</td>\n",
       "      <td>Leuven</td>\n",
       "      <td>Martelarenlaan</td>\n",
       "      <td>38.0</td>\n",
       "    </tr>\n",
       "    <tr>\n",
       "      <th>H8K0L6</th>\n",
       "      <td>Siff</td>\n",
       "      <td>Tara</td>\n",
       "      <td>CFO</td>\n",
       "      <td>Leadership</td>\n",
       "      <td>$4500</td>\n",
       "      <td>On-site</td>\n",
       "      <td>GB</td>\n",
       "      <td>London</td>\n",
       "      <td>Baker Street</td>\n",
       "      <td>221</td>\n",
       "      <td>Wendy de Matteo</td>\n",
       "      <td>+44-020-5554-333</td>\n",
       "      <td>Sister</td>\n",
       "      <td>WeWork Office</td>\n",
       "      <td>GB</td>\n",
       "      <td>London</td>\n",
       "      <td>Old Street</td>\n",
       "      <td>207.0</td>\n",
       "    </tr>\n",
       "    <tr>\n",
       "      <th>G4R7V0</th>\n",
       "      <td>Sagal</td>\n",
       "      <td>Gemma</td>\n",
       "      <td>Business Developer</td>\n",
       "      <td>Sales</td>\n",
       "      <td>$3000</td>\n",
       "      <td>On-site</td>\n",
       "      <td>US</td>\n",
       "      <td>New-York</td>\n",
       "      <td>Perry Street</td>\n",
       "      <td>66</td>\n",
       "      <td>John Newmark</td>\n",
       "      <td>+1-202-555-194</td>\n",
       "      <td>Husband</td>\n",
       "      <td>ESB Office</td>\n",
       "      <td>US</td>\n",
       "      <td>New York City</td>\n",
       "      <td>Fifth Avenue</td>\n",
       "      <td>350.0</td>\n",
       "    </tr>\n",
       "    <tr>\n",
       "      <th>M1Z7U9</th>\n",
       "      <td>Coates</td>\n",
       "      <td>Tig</td>\n",
       "      <td>Office Manager</td>\n",
       "      <td>People Operations</td>\n",
       "      <td>$2000</td>\n",
       "      <td>Remote</td>\n",
       "      <td>FR</td>\n",
       "      <td>Paris</td>\n",
       "      <td>Rue de l'Université</td>\n",
       "      <td>7</td>\n",
       "      <td>Venus Noone</td>\n",
       "      <td>+1-202-555-0130</td>\n",
       "      <td>Wife</td>\n",
       "      <td>NaN</td>\n",
       "      <td>NaN</td>\n",
       "      <td>NaN</td>\n",
       "      <td>NaN</td>\n",
       "      <td>NaN</td>\n",
       "    </tr>\n",
       "  </tbody>\n",
       "</table>\n",
       "</div>"
      ],
      "text/plain": [
       "       last_name first_name               title               team  \\\n",
       "id                                                                   \n",
       "A2R5H9    Hunman        Jax                 CEO         Leadership   \n",
       "H8K0L6      Siff       Tara                 CFO         Leadership   \n",
       "G4R7V0     Sagal      Gemma  Business Developer              Sales   \n",
       "M1Z7U9    Coates        Tig      Office Manager  People Operations   \n",
       "\n",
       "       monthly_salary   status country      city               street  \\\n",
       "id                                                                      \n",
       "A2R5H9          $4500  On-site      BE    Leuven          Grote Markt   \n",
       "H8K0L6          $4500  On-site      GB    London         Baker Street   \n",
       "G4R7V0          $3000  On-site      US  New-York         Perry Street   \n",
       "M1Z7U9          $2000   Remote      FR     Paris  Rue de l'Université   \n",
       "\n",
       "        street_number emergency_contact  emergency_number  \\\n",
       "id                                                          \n",
       "A2R5H9              9        Opie Hurst   +32-456-5556-84   \n",
       "H8K0L6            221   Wendy de Matteo  +44-020-5554-333   \n",
       "G4R7V0             66      John Newmark    +1-202-555-194   \n",
       "M1Z7U9              7       Venus Noone   +1-202-555-0130   \n",
       "\n",
       "       emergency_relationship         office office_country    office_city  \\\n",
       "id                                                                           \n",
       "A2R5H9                Brother  Leuven Office             BE         Leuven   \n",
       "H8K0L6                 Sister  WeWork Office             GB         London   \n",
       "G4R7V0                Husband     ESB Office             US  New York City   \n",
       "M1Z7U9                   Wife            NaN            NaN            NaN   \n",
       "\n",
       "         office_street  office_street_number  \n",
       "id                                            \n",
       "A2R5H9  Martelarenlaan                  38.0  \n",
       "H8K0L6      Old Street                 207.0  \n",
       "G4R7V0    Fifth Avenue                 350.0  \n",
       "M1Z7U9             NaN                   NaN  "
      ]
     },
     "execution_count": 14,
     "metadata": {},
     "output_type": "execute_result"
    }
   ],
   "source": [
    "# Reset the index and drop the column\n",
    "df_employees_final = df_employees_ordered.set_index(df_employees_ordered[\"id\"]).drop(columns=[\"id\"])\n",
    "\n",
    "# Loop through the row values and append to status_list accordingly\n",
    "status_list = []\n",
    "for index, row in df_employees_final.iterrows():\n",
    "    if pd.isnull(row[\"office\"]):\n",
    "        status_list.append(\"Remote\")\n",
    "    else:\n",
    "        status_list.append(\"On-site\")\n",
    "\n",
    "# Or \n",
    "status_list = [\"Remote\" if pd.isnull(row[\"office\"]) else \"On-site\" for index, row in df_employees_final.iterrows()]\n",
    "\n",
    "# Insert status as a new column\n",
    "df_employees_final.insert(loc=5, column=\"status\", value=status_list)\n",
    "\n",
    "# Take a look at the first rows of the DataFrame\n",
    "df_employees_final.head()"
   ]
  },
  {
   "cell_type": "markdown",
   "metadata": {
    "dc": {
     "key": "54"
    },
    "deletable": false,
    "editable": false,
    "run_control": {
     "frozen": true
    },
    "tags": [
     "context"
    ]
   },
   "source": [
    "## 8. Saving your work\n",
    "<p>Good job! You now have everything People Ops requested. The different people responsible for these various files can currently keep working on these files if they want. As long as they save it in the <code>datasets</code> folder, People Ops will have to execute this unique script to obtain just one file from the ones scattered across different teams.</p>\n",
    "<p>You bumped into the Head of People Ops and shared a few caveats and areas of improvement. She booked a meeting with you so you can explain:</p>\n",
    "<ul>\n",
    "<li>How the current structure isn't robust to role changes: what if an existing employee takes on a new role?</li>\n",
    "<li>How the current structure doesn't fit best practices in terms of database schema:<ul>\n",
    "<li>having data all over the place like it's the case right now is a no-go</li>\n",
    "<li>but gathering everything in a single table is inefficient: you have to query all information even if all you want is a phone number</li>\n",
    "<li>there should be a single SQL database for employee data, with several tables that can be joined</li>\n",
    "<li>views can be built on top of the database to simplify non-data practitioners access.</li></ul></li>\n",
    "</ul>\n",
    "<p>In any case, you still need to show up with what was requested - so let's export your DataFrame to a CSV file.</p>"
   ]
  },
  {
   "cell_type": "code",
   "execution_count": 16,
   "metadata": {
    "collapsed": true,
    "dc": {
     "key": "54"
    },
    "tags": [
     "sample_code"
    ]
   },
   "outputs": [],
   "source": [
    "# Write to CSV\n",
    "df_employees_final.to_csv(\"employee_data.csv\")"
   ]
  }
 ],
 "metadata": {
  "kernelspec": {
   "display_name": "Python 3",
   "language": "python",
   "name": "python3"
  },
  "language_info": {
   "codemirror_mode": {
    "name": "ipython",
    "version": 3
   },
   "file_extension": ".py",
   "mimetype": "text/x-python",
   "name": "python",
   "nbconvert_exporter": "python",
   "pygments_lexer": "ipython3",
   "version": "3.7.4"
  }
 },
 "nbformat": 4,
 "nbformat_minor": 2
}
